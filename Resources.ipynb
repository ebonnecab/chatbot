{
 "cells": [
  {
   "cell_type": "markdown",
   "metadata": {},
   "source": [
    "# Resources"
   ]
  },
  {
   "cell_type": "markdown",
   "metadata": {},
   "source": [
    "- [Beginner's Guide to Text Preprocessing in Python](https://medium.com/biaslyai/beginners-guide-to-text-preprocessing-in-python-2cbeafbf5f44)\n",
    "- [Python Chatbot Project](https://data-flair.training/blogs/python-chatbot-project/)\n",
    "- [Deep Learning Chatbots: Everything You Need to Know](https://hackernoon.com/deep-learning-chatbot-everything-you-need-to-know-r11jm30bc)\n",
    "- [A Gentle Introduction to the Bag-of-Words Model](https://machinelearningmastery.com/gentle-introduction-bag-words-model/)"
   ]
  },
  {
   "cell_type": "code",
   "execution_count": null,
   "metadata": {},
   "outputs": [],
   "source": []
  }
 ],
 "metadata": {
  "kernelspec": {
   "display_name": "Python 3",
   "language": "python",
   "name": "python3"
  },
  "language_info": {
   "codemirror_mode": {
    "name": "ipython",
    "version": 3
   },
   "file_extension": ".py",
   "mimetype": "text/x-python",
   "name": "python",
   "nbconvert_exporter": "python",
   "pygments_lexer": "ipython3",
   "version": "3.7.3"
  }
 },
 "nbformat": 4,
 "nbformat_minor": 4
}
