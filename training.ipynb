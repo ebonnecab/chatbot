{
 "cells": [
  {
   "cell_type": "markdown",
   "metadata": {},
   "source": [
    "# Training Model"
   ]
  },
  {
   "cell_type": "code",
   "execution_count": 30,
   "metadata": {},
   "outputs": [],
   "source": [
    "import pandas as pd\n",
    "import nltk\n",
    "from nltk.stem import WordNetLemmatizer\n",
    "import numpy as np\n",
    "import seaborn as sns\n",
    "import re\n",
    "import pickle\n",
    "\n",
    "%store -r words\n",
    "%store -r classes\n",
    "%store -r unique_classes\n",
    "%store -r documents\n",
    "%store -r lemmatizer"
   ]
  },
  {
   "cell_type": "markdown",
   "metadata": {},
   "source": [
    "### Creating Training and Testing Data"
   ]
  },
  {
   "cell_type": "code",
   "execution_count": 31,
   "metadata": {},
   "outputs": [],
   "source": [
    "train_set =[]\n",
    "output_empty = [0] * len(classes)\n",
    "\n",
    "def get_words(d):\n",
    "    base_words = []\n",
    "    for doc in d:\n",
    "        for word in doc[0]:\n",
    "            base_words.append(lemmatizer.lemmatize(word))\n",
    "    return base_words"
   ]
  },
  {
   "cell_type": "code",
   "execution_count": null,
   "metadata": {},
   "outputs": [],
   "source": [
    "def bag_o_words(base_words, wrds)\n",
    "#     for w in wrds:\n",
    "#         if w in base_words:\n",
    "#             bag.append(1)\n",
    "#         else:\n",
    "#             bag.append(0)"
   ]
  },
  {
   "cell_type": "code",
   "execution_count": 32,
   "metadata": {},
   "outputs": [
    {
     "name": "stdout",
     "output_type": "stream",
     "text": [
      "[['h', 'o', 'w'], ['a', 'e', 'r'], ['a', 'c', 'e', 'g', 'i', 'l', 'r'], ['a', 'c', 'e', 'v'], ['d', 'e', 'f', 'm', 'o', 'r'], ['h', 'o', 'w'], ['a', 'e', 'r'], ['a', 'c', 'e', 'g', 'i', 'l', 'r'], ['a', 'c', 'e', 'v'], ['d', 'e', 'f', 'm', 'o', 'r']]\n"
     ]
    }
   ],
   "source": [
    "# test = bag_o_words(documents, words, unique_classes)\n",
    "# print(test)\n",
    "print(words[0:10])"
   ]
  },
  {
   "cell_type": "code",
   "execution_count": null,
   "metadata": {},
   "outputs": [],
   "source": []
  }
 ],
 "metadata": {
  "kernelspec": {
   "display_name": "Python 3",
   "language": "python",
   "name": "python3"
  },
  "language_info": {
   "codemirror_mode": {
    "name": "ipython",
    "version": 3
   },
   "file_extension": ".py",
   "mimetype": "text/x-python",
   "name": "python",
   "nbconvert_exporter": "python",
   "pygments_lexer": "ipython3",
   "version": "3.7.3"
  }
 },
 "nbformat": 4,
 "nbformat_minor": 4
}
